{
 "cells": [
  {
   "cell_type": "code",
   "execution_count": 1,
   "id": "daea58ff",
   "metadata": {},
   "outputs": [],
   "source": [
    "import numpy as np\n",
    "import matplotlib.pyplot as plt\n",
    "import yfinance as yf\n",
    "import pandas as pd\n",
    "import datetime as dt"
   ]
  },
  {
   "cell_type": "markdown",
   "id": "46091703",
   "metadata": {},
   "source": [
    "Data needed for configuration of the Option's pricings"
   ]
  },
  {
   "cell_type": "code",
   "execution_count": 39,
   "id": "6a69313a",
   "metadata": {},
   "outputs": [
    {
     "name": "stderr",
     "output_type": "stream",
     "text": [
      "[*********************100%***********************]  4 of 4 completed\n",
      "[*********************100%***********************]  1 of 1 completed"
     ]
    },
    {
     "name": "stdout",
     "output_type": "stream",
     "text": [
      "Basket spot price S0 as of 16 May 2025: 128.4795036315918\n",
      "Closing prices on 16 May 2025: [ 39.72000122 241.82000732 207.3500061   21.92000008]\n",
      "Risk-free rate as of 2025-05-16: 4.2370%\n",
      "Basket's volatilities (sigma): 0.17620663202111472\n"
     ]
    },
    {
     "name": "stderr",
     "output_type": "stream",
     "text": [
      "\n"
     ]
    }
   ],
   "source": [
    "# Definition and calculation of the basket's key inputs\n",
    "\"\"\"\n",
    "S0: array of spot prices for each asset. Calculated input\n",
    "weights: array of basket weights. Assumed input\n",
    "K: strike price. Assumed input\n",
    "T: time to maturity (in years). Calculated input\n",
    "rf_rate: risk-free rate (annual, decimal), used in the Monte carlo simulation. Calculated input\n",
    "sigma: array of volatilities for each asset. Calculated input\n",
    "corr_matrix: correlation matrix between assets. Calculated input\n",
    "N: number of paths (different scenarios). Assumed input\n",
    "\"\"\"\n",
    "\n",
    "# Define the basket's tickers and weights\n",
    "tickers = ['BHP.AX', 'CSL.AX', 'WDS.AX', 'MQG.AX']\n",
    "weights = np.array([0.1, 0.35, 0.15, 0.4])\n",
    "\n",
    "# Extracting closing prices as of Friday, 16 May 2025 from yfinance\n",
    "data = yf.download(tickers, start='2024-05-16', end='2025-05-17')['Close']\n",
    "closing_prices = data.loc['2025-05-16'].values\n",
    "\n",
    "# Calculate weighted average (basket spot price, S0)\n",
    "S0 = np.dot(weights, closing_prices)\n",
    "print(\"Basket spot price S0 as of 16 May 2025:\", S0)\n",
    "print(\"Closing prices on 16 May 2025:\", closing_prices)\n",
    "\n",
    "#Download the latest 13-week treasury bill rate for the risk-free rate, r, on 16 May 2025\n",
    "rf_data = yf.download('^IRX', start='2025-05-10', end='2025-05-17')['Close']\n",
    "# Drop missing values\n",
    "rf_data = rf_data.dropna()\n",
    "if rf_data.empty:\n",
    "    raise ValueError(\"No risk-free rate data available for the selected period.\")\n",
    "else:\n",
    "    rf_rate = rf_data.iloc[-1] / 100  # Use last available, convert from % to decimal\n",
    "    rf_rate_value = rf_rate.values[0] if hasattr(rf_rate, \"values\") else float(rf_rate)\n",
    "    r = rf_rate_value\n",
    "    print(f\"Risk-free rate as of {rf_data.index[-1].date()}: {rf_rate_value:.4%}\")\n",
    "\n",
    "# Calculate daily log returns for volatility and correlation estimation\n",
    "returns = np.log(data / data.shift(1)).dropna()\n",
    "\n",
    "# Annualized volatilities\n",
    "sigma = returns.std() * np.sqrt(252)\n",
    "sigma = sigma.values\n",
    "\n",
    "# Correlation matrix\n",
    "corr_matrix = returns.corr().values\n",
    "\n",
    "# Calculate basket volatility\n",
    "cov_matrix = np.outer(sigma, sigma) * corr_matrix\n",
    "sigma_basket = np.sqrt(weights @ cov_matrix @ weights)\n",
    "\n",
    "print(\"Basket's volatilities (sigma):\", sigma_basket)\n"
   ]
  },
  {
   "cell_type": "code",
   "execution_count": 36,
   "id": "16fdc361",
   "metadata": {},
   "outputs": [],
   "source": [
    "def binomial_european_call(S0, K, T, sigma, N):\n",
    "    \"\"\"Calculate European call option price using binomial model\"\"\"\n",
    "    # Calculate time step\n",
    "    dt = T/N\n",
    "    print(f\"dt: {dt}\")\n",
    "    \n",
    "    # Calculate up and down factors\n",
    "    u = np.exp(sigma * np.sqrt(dt))\n",
    "    print(f\"u: {u}\")\n",
    "    d = 1/u\n",
    "    print(f\"d: {d}\")\n",
    "    \n",
    "    # Calculate risk-neutral probability\n",
    "    p = 1 / (u + 1)\n",
    "    print(f\"p: {p}\")\n",
    "    \n",
    "    # Initialize stock price tree\n",
    "    stock_tree = np.zeros((N+1, N+1))\n",
    "    \n",
    "    # Populate the stock price tree through time\n",
    "    for i in range(N+1):\n",
    "        for j in range(i+1):\n",
    "            stock_tree[i, j] = S0 * (u ** j) * (d ** (i - j))\n",
    "    \n",
    "    # Initialize option value tree\n",
    "    option_tree = np.zeros((N+1, N+1))\n",
    "    \n",
    "    # Calculate call option payoffs at expiration\n",
    "    for j in range(N+1):\n",
    "        option_tree[N, j] = max(0, stock_tree[N, j] - K)\n",
    "    \n",
    "    # Work backwards discounting and reflecting risk-neutral probabilities to calculate option value at each node\n",
    "    for i in range(N-1, -1, -1):\n",
    "        for j in range(i+1):\n",
    "            option_tree[i, j] = (p * option_tree[i+1, j+1] + (1-p) * option_tree[i+1, j])\n",
    "    \n",
    "    return option_tree[0, 0], stock_tree, option_tree"
   ]
  },
  {
   "cell_type": "code",
   "execution_count": 38,
   "id": "3b05e633",
   "metadata": {},
   "outputs": [
    {
     "name": "stdout",
     "output_type": "stream",
     "text": [
      "dt: 0.0016986301369863012\n",
      "u: 1.00728869196405\n",
      "d: 0.9927640486563606\n",
      "p: 0.4981844435249326\n",
      "European call basket option price: 53.48 AUD\n",
      "Time until expiry (T): 0.16986301369863013\n"
     ]
    }
   ],
   "source": [
    "K = 75\n",
    "valuation_date = dt. datetime(2025, 5, 16)\n",
    "expiry_date = dt.datetime(2025, 7, 17)\n",
    "T = (expiry_date - valuation_date).days / 365\n",
    "N = 100\n",
    "\n",
    "price, stock_tree, option_tree = binomial_european_call(S0, K, T, sigma_basket, N)\n",
    "print(f\"European call basket option price: {price:.2f} AUD\")\n",
    "print(\"Time until expiry (T):\", T)"
   ]
  },
  {
   "cell_type": "code",
   "execution_count": 31,
   "id": "e4c1161d",
   "metadata": {},
   "outputs": [],
   "source": [
    "# Monte Carlo simulation for European basket call option\n",
    "def monte_carlo_basket_call(S0, weights, K, T, r, sigma, corr_matrix, N=100):\n",
    "    n_assets = len(S0)\n",
    "    # Cholesky decomposition for correlated random numbers\n",
    "    L = np.linalg.cholesky(corr_matrix)\n",
    "    # Simulate correlated standard normals\n",
    "    Z = np.random.normal(size=(N, n_assets))\n",
    "    correlated_Z = Z @ L.T\n",
    "    # Simulate asset prices at maturity\n",
    "    drift = (r - 0.5 * sigma ** 2) * T\n",
    "    diffusion = sigma * np.sqrt(T)\n",
    "    S_T = S0 * np.exp(drift + diffusion * correlated_Z)\n",
    "    # Calculate basket value at maturity\n",
    "    basket_T = S_T @ weights\n",
    "    # Calculate payoff\n",
    "    payoff = np.maximum(basket_T - K, 0)\n",
    "    # Discounted expected payoff\n",
    "    price_mc = np.exp(-r * T) * np.mean(payoff)\n",
    "    #Time step\n",
    "    dt = T/N\n",
    "    print(f\"dt: {dt}\")\n",
    "    return price_mc"
   ]
  },
  {
   "cell_type": "code",
   "execution_count": 34,
   "id": "08cb6ce1",
   "metadata": {},
   "outputs": [
    {
     "name": "stdout",
     "output_type": "stream",
     "text": [
      "dt: 0.0016986301369863012\n",
      "Monte Carlo price of the European basket call option: 54.08 AUD\n"
     ]
    }
   ],
   "source": [
    "K = 75\n",
    "valuation_date = dt. datetime(2025, 5, 16)\n",
    "expiry_date = dt.datetime(2025, 7, 17)\n",
    "T = (expiry_date - valuation_date).days / 365\n",
    "\n",
    "price_mc = monte_carlo_basket_call(closing_prices, weights, K, T, r, sigma, corr_matrix, N=100)\n",
    "print(f\"Monte Carlo price of the European basket call option: {price_mc:.2f} AUD\")"
   ]
  }
 ],
 "metadata": {
  "kernelspec": {
   "display_name": "Python 3",
   "language": "python",
   "name": "python3"
  },
  "language_info": {
   "codemirror_mode": {
    "name": "ipython",
    "version": 3
   },
   "file_extension": ".py",
   "mimetype": "text/x-python",
   "name": "python",
   "nbconvert_exporter": "python",
   "pygments_lexer": "ipython3",
   "version": "3.12.2"
  }
 },
 "nbformat": 4,
 "nbformat_minor": 5
}
