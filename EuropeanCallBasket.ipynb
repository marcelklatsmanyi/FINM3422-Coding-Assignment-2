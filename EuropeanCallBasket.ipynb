{
 "cells": [
  {
   "cell_type": "code",
   "execution_count": 2,
   "id": "daea58ff",
   "metadata": {},
   "outputs": [],
   "source": [
    "import numpy as np\n",
    "import matplotlib.pyplot as plt\n",
    "import yfinance as yf\n",
    "import pandas as pd\n",
    "import datetime as dt"
   ]
  },
  {
   "cell_type": "code",
   "execution_count": 10,
   "id": "6a69313a",
   "metadata": {},
   "outputs": [],
   "source": [
    "# Define the basket's tickers and weights\n",
    "tickers = ['BHP.AX', 'CSL.AX', 'WDS.AX', 'MQG.AX']\n",
    "weights = np.array([0.1, 0.35, 0.15, 0.4])"
   ]
  },
  {
   "cell_type": "code",
   "execution_count": 16,
   "id": "66f22b24",
   "metadata": {},
   "outputs": [
    {
     "name": "stderr",
     "output_type": "stream",
     "text": [
      "[*********************100%***********************]  4 of 4 completed"
     ]
    },
    {
     "name": "stdout",
     "output_type": "stream",
     "text": [
      "Basket spot price S0 as of 16 May 2025: 128.4795036315918\n",
      "Closing prices on 16 May 2025: [ 39.72000122 241.82000732 207.3500061   21.92000008]\n"
     ]
    },
    {
     "name": "stderr",
     "output_type": "stream",
     "text": [
      "\n"
     ]
    }
   ],
   "source": [
    "# Extracting closing prices as of Friday, 16 May 2025 from yfinance\n",
    "data = yf.download(tickers, start='2025-05-16', end='2025-05-17')['Close']\n",
    "\n",
    "# Extract the closing prices for that date\n",
    "closing_prices = data.loc['2025-05-16'].values\n",
    "\n",
    "# Calculate weighted average (basket spot price S0)\n",
    "S0 = np.dot(weights, closing_prices)\n",
    "\n",
    "print(\"Basket spot price S0 as of 16 May 2025:\", S0)\n",
    "print(\"Closing prices on 16 May 2025:\", closing_prices)"
   ]
  },
  {
   "cell_type": "code",
   "execution_count": 18,
   "id": "c8cafbdd",
   "metadata": {},
   "outputs": [],
   "source": [
    "def binomial_european_call(S0, K, T, sigma, N):\n",
    "    \"\"\"Calculate European call option price using binomial model\"\"\"\n",
    "    # Calculate time step\n",
    "    dt = T/N\n",
    "    print(f\"dt: {dt}\")\n",
    "    \n",
    "    # Calculate up and down factors\n",
    "    u = np.exp(sigma * np.sqrt(dt))\n",
    "    print(f\"u: {u}\")\n",
    "    d = 1/u\n",
    "    print(f\"d: {d}\")\n",
    "    \n",
    "    # Calculate risk-neutral probability\n",
    "    p = 1 / (u + 1)\n",
    "    print(f\"p: {p}\")\n",
    "    \n",
    "    # Initialize stock price tree\n",
    "    stock_tree = np.zeros((N+1, N+1))\n",
    "    \n",
    "    # Populate the stock price tree through time\n",
    "    for i in range(N+1):\n",
    "        for j in range(i+1):\n",
    "            stock_tree[i, j] = S0 * (u ** j) * (d ** (i - j))\n",
    "    \n",
    "    # Initialize option value tree\n",
    "    option_tree = np.zeros((N+1, N+1))\n",
    "    \n",
    "    # Calculate call option payoffs at expiration\n",
    "    for j in range(N+1):\n",
    "        option_tree[N, j] = max(0, stock_tree[N, j] - K)\n",
    "    \n",
    "    # Work backwards discounting and reflecting risk-neutral probabilities to calculate option value at each node\n",
    "    for i in range(N-1, -1, -1):\n",
    "        for j in range(i+1):\n",
    "            option_tree[i, j] = (p * option_tree[i+1, j+1] + (1-p) * option_tree[i+1, j])\n",
    "    \n",
    "    return option_tree[0, 0], stock_tree, option_tree"
   ]
  },
  {
   "cell_type": "code",
   "execution_count": 21,
   "id": "48433f76",
   "metadata": {},
   "outputs": [
    {
     "name": "stdout",
     "output_type": "stream",
     "text": [
      "dt: 0.0016986301369863012\n",
      "u: 1.0082769543153784\n",
      "d: 0.9917909912748144\n",
      "p: 0.4979392896239752\n",
      "European call basket option price: 0.00 AUD\n",
      "Time until expiry (T): 0.16986301369863013\n"
     ]
    }
   ],
   "source": [
    "K = 175\n",
    "valuation_date = dt. datetime(2025, 5, 16)\n",
    "expiry_date = dt.datetime(2025, 7, 17)\n",
    "T = (expiry_date - valuation_date).days / 365\n",
    "sigma = 0.2  # Replace with your basket's volatility estimate\n",
    "N = 100\n",
    "\n",
    "price, stock_tree, option_tree = binomial_european_call(S0, K, T, sigma, N)\n",
    "print(f\"European call basket option price: {price:.2f} AUD\")\n",
    "print(\"Time until expiry (T):\", T)"
   ]
  }
 ],
 "metadata": {
  "kernelspec": {
   "display_name": "Python 3",
   "language": "python",
   "name": "python3"
  },
  "language_info": {
   "codemirror_mode": {
    "name": "ipython",
    "version": 3
   },
   "file_extension": ".py",
   "mimetype": "text/x-python",
   "name": "python",
   "nbconvert_exporter": "python",
   "pygments_lexer": "ipython3",
   "version": "3.12.2"
  }
 },
 "nbformat": 4,
 "nbformat_minor": 5
}
