{
 "cells": [
  {
   "cell_type": "code",
   "execution_count": 7,
   "id": "daea58ff",
   "metadata": {},
   "outputs": [],
   "source": [
    "import numpy as np\n",
    "import matplotlib.pyplot as plt\n",
    "import yfinance as yf\n",
    "import pandas as pd\n",
    "import datetime as dt"
   ]
  },
  {
   "cell_type": "markdown",
   "id": "46091703",
   "metadata": {},
   "source": [
    "Data needed for configuration of the Option's pricings"
   ]
  },
  {
   "cell_type": "code",
   "execution_count": null,
   "id": "6a69313a",
   "metadata": {},
   "outputs": [
    {
     "name": "stderr",
     "output_type": "stream",
     "text": [
      "[*********************100%***********************]  1 of 4 completed\n",
      "\n",
      "4 Failed downloads:\n",
      "['CSL.AX', 'BHP.AX', 'WDS.AX', 'MQG.AX']: YFRateLimitError('Too Many Requests. Rate limited. Try after a while.')\n"
     ]
    },
    {
     "ename": "KeyError",
     "evalue": "'2025-05-16'",
     "output_type": "error",
     "traceback": [
      "\u001b[0;31m---------------------------------------------------------------------------\u001b[0m",
      "\u001b[0;31mKeyError\u001b[0m                                  Traceback (most recent call last)",
      "File \u001b[0;32mindex.pyx:609\u001b[0m, in \u001b[0;36mpandas._libs.index.DatetimeEngine.get_loc\u001b[0;34m()\u001b[0m\n",
      "File \u001b[0;32mpandas/_libs/hashtable_class_helper.pxi:2606\u001b[0m, in \u001b[0;36mpandas._libs.hashtable.Int64HashTable.get_item\u001b[0;34m()\u001b[0m\n",
      "File \u001b[0;32mpandas/_libs/hashtable_class_helper.pxi:2630\u001b[0m, in \u001b[0;36mpandas._libs.hashtable.Int64HashTable.get_item\u001b[0;34m()\u001b[0m\n",
      "\u001b[0;31mKeyError\u001b[0m: 1747353600000000000",
      "\nDuring handling of the above exception, another exception occurred:\n",
      "\u001b[0;31mKeyError\u001b[0m                                  Traceback (most recent call last)",
      "File \u001b[0;32m/Library/Frameworks/Python.framework/Versions/3.12/lib/python3.12/site-packages/pandas/core/indexes/base.py:3805\u001b[0m, in \u001b[0;36mIndex.get_loc\u001b[0;34m(self, key)\u001b[0m\n\u001b[1;32m   3804\u001b[0m \u001b[38;5;28;01mtry\u001b[39;00m:\n\u001b[0;32m-> 3805\u001b[0m     \u001b[38;5;28;01mreturn\u001b[39;00m \u001b[38;5;28;43mself\u001b[39;49m\u001b[38;5;241;43m.\u001b[39;49m\u001b[43m_engine\u001b[49m\u001b[38;5;241;43m.\u001b[39;49m\u001b[43mget_loc\u001b[49m\u001b[43m(\u001b[49m\u001b[43mcasted_key\u001b[49m\u001b[43m)\u001b[49m\n\u001b[1;32m   3806\u001b[0m \u001b[38;5;28;01mexcept\u001b[39;00m \u001b[38;5;167;01mKeyError\u001b[39;00m \u001b[38;5;28;01mas\u001b[39;00m err:\n",
      "File \u001b[0;32mindex.pyx:577\u001b[0m, in \u001b[0;36mpandas._libs.index.DatetimeEngine.get_loc\u001b[0;34m()\u001b[0m\n",
      "File \u001b[0;32mindex.pyx:611\u001b[0m, in \u001b[0;36mpandas._libs.index.DatetimeEngine.get_loc\u001b[0;34m()\u001b[0m\n",
      "\u001b[0;31mKeyError\u001b[0m: Timestamp('2025-05-16 00:00:00')",
      "\nThe above exception was the direct cause of the following exception:\n",
      "\u001b[0;31mKeyError\u001b[0m                                  Traceback (most recent call last)",
      "File \u001b[0;32m/Library/Frameworks/Python.framework/Versions/3.12/lib/python3.12/site-packages/pandas/core/indexes/datetimes.py:630\u001b[0m, in \u001b[0;36mDatetimeIndex.get_loc\u001b[0;34m(self, key)\u001b[0m\n\u001b[1;32m    629\u001b[0m \u001b[38;5;28;01mtry\u001b[39;00m:\n\u001b[0;32m--> 630\u001b[0m     \u001b[38;5;28;01mreturn\u001b[39;00m \u001b[43mIndex\u001b[49m\u001b[38;5;241;43m.\u001b[39;49m\u001b[43mget_loc\u001b[49m\u001b[43m(\u001b[49m\u001b[38;5;28;43mself\u001b[39;49m\u001b[43m,\u001b[49m\u001b[43m \u001b[49m\u001b[43mkey\u001b[49m\u001b[43m)\u001b[49m\n\u001b[1;32m    631\u001b[0m \u001b[38;5;28;01mexcept\u001b[39;00m \u001b[38;5;167;01mKeyError\u001b[39;00m \u001b[38;5;28;01mas\u001b[39;00m err:\n",
      "File \u001b[0;32m/Library/Frameworks/Python.framework/Versions/3.12/lib/python3.12/site-packages/pandas/core/indexes/base.py:3812\u001b[0m, in \u001b[0;36mIndex.get_loc\u001b[0;34m(self, key)\u001b[0m\n\u001b[1;32m   3811\u001b[0m         \u001b[38;5;28;01mraise\u001b[39;00m InvalidIndexError(key)\n\u001b[0;32m-> 3812\u001b[0m     \u001b[38;5;28;01mraise\u001b[39;00m \u001b[38;5;167;01mKeyError\u001b[39;00m(key) \u001b[38;5;28;01mfrom\u001b[39;00m \u001b[38;5;21;01merr\u001b[39;00m\n\u001b[1;32m   3813\u001b[0m \u001b[38;5;28;01mexcept\u001b[39;00m \u001b[38;5;167;01mTypeError\u001b[39;00m:\n\u001b[1;32m   3814\u001b[0m     \u001b[38;5;66;03m# If we have a listlike key, _check_indexing_error will raise\u001b[39;00m\n\u001b[1;32m   3815\u001b[0m     \u001b[38;5;66;03m#  InvalidIndexError. Otherwise we fall through and re-raise\u001b[39;00m\n\u001b[1;32m   3816\u001b[0m     \u001b[38;5;66;03m#  the TypeError.\u001b[39;00m\n",
      "\u001b[0;31mKeyError\u001b[0m: Timestamp('2025-05-16 00:00:00')",
      "\nThe above exception was the direct cause of the following exception:\n",
      "\u001b[0;31mKeyError\u001b[0m                                  Traceback (most recent call last)",
      "Cell \u001b[0;32mIn[12], line 7\u001b[0m\n\u001b[1;32m      5\u001b[0m \u001b[38;5;66;03m# Extracting closing prices as of Friday, 16 May 2025 from yfinance\u001b[39;00m\n\u001b[1;32m      6\u001b[0m data \u001b[38;5;241m=\u001b[39m yf\u001b[38;5;241m.\u001b[39mdownload(tickers, start\u001b[38;5;241m=\u001b[39m\u001b[38;5;124m'\u001b[39m\u001b[38;5;124m2025-05-16\u001b[39m\u001b[38;5;124m'\u001b[39m, end\u001b[38;5;241m=\u001b[39m\u001b[38;5;124m'\u001b[39m\u001b[38;5;124m2025-05-17\u001b[39m\u001b[38;5;124m'\u001b[39m)[\u001b[38;5;124m'\u001b[39m\u001b[38;5;124mClose\u001b[39m\u001b[38;5;124m'\u001b[39m]\n\u001b[0;32m----> 7\u001b[0m closing_prices \u001b[38;5;241m=\u001b[39m \u001b[43mdata\u001b[49m\u001b[38;5;241;43m.\u001b[39;49m\u001b[43mloc\u001b[49m\u001b[43m[\u001b[49m\u001b[38;5;124;43m'\u001b[39;49m\u001b[38;5;124;43m2025-05-16\u001b[39;49m\u001b[38;5;124;43m'\u001b[39;49m\u001b[43m]\u001b[49m\u001b[38;5;241m.\u001b[39mvalues\n\u001b[1;32m      9\u001b[0m \u001b[38;5;66;03m# Calculate weighted average (basket spot price, S0)\u001b[39;00m\n\u001b[1;32m     10\u001b[0m S0 \u001b[38;5;241m=\u001b[39m np\u001b[38;5;241m.\u001b[39mdot(weights, closing_prices)\n",
      "File \u001b[0;32m/Library/Frameworks/Python.framework/Versions/3.12/lib/python3.12/site-packages/pandas/core/indexing.py:1191\u001b[0m, in \u001b[0;36m_LocationIndexer.__getitem__\u001b[0;34m(self, key)\u001b[0m\n\u001b[1;32m   1189\u001b[0m maybe_callable \u001b[38;5;241m=\u001b[39m com\u001b[38;5;241m.\u001b[39mapply_if_callable(key, \u001b[38;5;28mself\u001b[39m\u001b[38;5;241m.\u001b[39mobj)\n\u001b[1;32m   1190\u001b[0m maybe_callable \u001b[38;5;241m=\u001b[39m \u001b[38;5;28mself\u001b[39m\u001b[38;5;241m.\u001b[39m_check_deprecated_callable_usage(key, maybe_callable)\n\u001b[0;32m-> 1191\u001b[0m \u001b[38;5;28;01mreturn\u001b[39;00m \u001b[38;5;28;43mself\u001b[39;49m\u001b[38;5;241;43m.\u001b[39;49m\u001b[43m_getitem_axis\u001b[49m\u001b[43m(\u001b[49m\u001b[43mmaybe_callable\u001b[49m\u001b[43m,\u001b[49m\u001b[43m \u001b[49m\u001b[43maxis\u001b[49m\u001b[38;5;241;43m=\u001b[39;49m\u001b[43maxis\u001b[49m\u001b[43m)\u001b[49m\n",
      "File \u001b[0;32m/Library/Frameworks/Python.framework/Versions/3.12/lib/python3.12/site-packages/pandas/core/indexing.py:1431\u001b[0m, in \u001b[0;36m_LocIndexer._getitem_axis\u001b[0;34m(self, key, axis)\u001b[0m\n\u001b[1;32m   1429\u001b[0m \u001b[38;5;66;03m# fall thru to straight lookup\u001b[39;00m\n\u001b[1;32m   1430\u001b[0m \u001b[38;5;28mself\u001b[39m\u001b[38;5;241m.\u001b[39m_validate_key(key, axis)\n\u001b[0;32m-> 1431\u001b[0m \u001b[38;5;28;01mreturn\u001b[39;00m \u001b[38;5;28;43mself\u001b[39;49m\u001b[38;5;241;43m.\u001b[39;49m\u001b[43m_get_label\u001b[49m\u001b[43m(\u001b[49m\u001b[43mkey\u001b[49m\u001b[43m,\u001b[49m\u001b[43m \u001b[49m\u001b[43maxis\u001b[49m\u001b[38;5;241;43m=\u001b[39;49m\u001b[43maxis\u001b[49m\u001b[43m)\u001b[49m\n",
      "File \u001b[0;32m/Library/Frameworks/Python.framework/Versions/3.12/lib/python3.12/site-packages/pandas/core/indexing.py:1381\u001b[0m, in \u001b[0;36m_LocIndexer._get_label\u001b[0;34m(self, label, axis)\u001b[0m\n\u001b[1;32m   1379\u001b[0m \u001b[38;5;28;01mdef\u001b[39;00m \u001b[38;5;21m_get_label\u001b[39m(\u001b[38;5;28mself\u001b[39m, label, axis: AxisInt):\n\u001b[1;32m   1380\u001b[0m     \u001b[38;5;66;03m# GH#5567 this will fail if the label is not present in the axis.\u001b[39;00m\n\u001b[0;32m-> 1381\u001b[0m     \u001b[38;5;28;01mreturn\u001b[39;00m \u001b[38;5;28;43mself\u001b[39;49m\u001b[38;5;241;43m.\u001b[39;49m\u001b[43mobj\u001b[49m\u001b[38;5;241;43m.\u001b[39;49m\u001b[43mxs\u001b[49m\u001b[43m(\u001b[49m\u001b[43mlabel\u001b[49m\u001b[43m,\u001b[49m\u001b[43m \u001b[49m\u001b[43maxis\u001b[49m\u001b[38;5;241;43m=\u001b[39;49m\u001b[43maxis\u001b[49m\u001b[43m)\u001b[49m\n",
      "File \u001b[0;32m/Library/Frameworks/Python.framework/Versions/3.12/lib/python3.12/site-packages/pandas/core/generic.py:4298\u001b[0m, in \u001b[0;36mNDFrame.xs\u001b[0;34m(self, key, axis, level, drop_level)\u001b[0m\n\u001b[1;32m   4296\u001b[0m             new_index \u001b[38;5;241m=\u001b[39m index[loc]\n\u001b[1;32m   4297\u001b[0m \u001b[38;5;28;01melse\u001b[39;00m:\n\u001b[0;32m-> 4298\u001b[0m     loc \u001b[38;5;241m=\u001b[39m \u001b[43mindex\u001b[49m\u001b[38;5;241;43m.\u001b[39;49m\u001b[43mget_loc\u001b[49m\u001b[43m(\u001b[49m\u001b[43mkey\u001b[49m\u001b[43m)\u001b[49m\n\u001b[1;32m   4300\u001b[0m     \u001b[38;5;28;01mif\u001b[39;00m \u001b[38;5;28misinstance\u001b[39m(loc, np\u001b[38;5;241m.\u001b[39mndarray):\n\u001b[1;32m   4301\u001b[0m         \u001b[38;5;28;01mif\u001b[39;00m loc\u001b[38;5;241m.\u001b[39mdtype \u001b[38;5;241m==\u001b[39m np\u001b[38;5;241m.\u001b[39mbool_:\n",
      "File \u001b[0;32m/Library/Frameworks/Python.framework/Versions/3.12/lib/python3.12/site-packages/pandas/core/indexes/datetimes.py:632\u001b[0m, in \u001b[0;36mDatetimeIndex.get_loc\u001b[0;34m(self, key)\u001b[0m\n\u001b[1;32m    630\u001b[0m     \u001b[38;5;28;01mreturn\u001b[39;00m Index\u001b[38;5;241m.\u001b[39mget_loc(\u001b[38;5;28mself\u001b[39m, key)\n\u001b[1;32m    631\u001b[0m \u001b[38;5;28;01mexcept\u001b[39;00m \u001b[38;5;167;01mKeyError\u001b[39;00m \u001b[38;5;28;01mas\u001b[39;00m err:\n\u001b[0;32m--> 632\u001b[0m     \u001b[38;5;28;01mraise\u001b[39;00m \u001b[38;5;167;01mKeyError\u001b[39;00m(orig_key) \u001b[38;5;28;01mfrom\u001b[39;00m \u001b[38;5;21;01merr\u001b[39;00m\n",
      "\u001b[0;31mKeyError\u001b[0m: '2025-05-16'"
     ]
    }
   ],
   "source": [
    "# Define the basket's tickers and weights\n",
    "tickers = ['BHP.AX', 'CSL.AX', 'WDS.AX', 'MQG.AX']\n",
    "weights = np.array([0.1, 0.35, 0.15, 0.4])\n",
    "\n",
    "# Extracting closing prices as of Friday, 16 May 2025 from yfinance\n",
    "data = yf.download(tickers, start='2025-05-16', end='2025-05-17')['Close']\n",
    "closing_prices = data.loc['2025-05-16'].values\n",
    "\n",
    "# Calculate weighted average (basket spot price, S0)\n",
    "S0 = np.dot(weights, closing_prices)\n",
    "print(\"Basket spot price S0 as of 16 May 2025:\", S0)\n",
    "print(\"Closing prices on 16 May 2025:\", closing_prices)\n",
    "\n",
    "#Download the latest Australian 10-year government bond yield for the risk-free rate, r, on 16 May 2025\n",
    "rf = yf.Ticker(\"^AXY\")\n",
    "data = rf.history(end=\"2025-05-16\") # Risk-free rate as of 16 May 2025\n",
    "rf_rate = data[\"Close\"].iloc[-1] / 100  # Convert from % to decimal\n",
    "print(f\"Risk-free rate as of 16 May 2025: {rf_rate:.4%}\")\n",
    "r = rf_rate\n",
    "\n",
    "# Calculate daily log returns for volatility and correlation estimation\n",
    "returns = np.log(data / data.shift(1)).dropna()\n",
    "\n",
    "# Annualized volatilities\n",
    "sigma = returns.std() * np.sqrt(252)\n",
    "sigma = sigma.values\n",
    "\n",
    "# Correlation matrix\n",
    "corr_matrix = returns.corr().values"
   ]
  },
  {
   "cell_type": "code",
   "execution_count": null,
   "id": "16fdc361",
   "metadata": {},
   "outputs": [],
   "source": [
    "def binomial_european_call(S0, K, T, sigma, N):\n",
    "    \"\"\"Calculate European call option price using binomial model\"\"\"\n",
    "    # Calculate time step\n",
    "    dt = T/N\n",
    "    print(f\"dt: {dt}\")\n",
    "    \n",
    "    # Calculate up and down factors\n",
    "    u = np.exp(sigma * np.sqrt(dt))\n",
    "    print(f\"u: {u}\")\n",
    "    d = 1/u\n",
    "    print(f\"d: {d}\")\n",
    "    \n",
    "    # Calculate risk-neutral probability\n",
    "    p = 1 / (u + 1)\n",
    "    print(f\"p: {p}\")\n",
    "    \n",
    "    # Initialize stock price tree\n",
    "    stock_tree = np.zeros((N+1, N+1))\n",
    "    \n",
    "    # Populate the stock price tree through time\n",
    "    for i in range(N+1):\n",
    "        for j in range(i+1):\n",
    "            stock_tree[i, j] = S0 * (u ** j) * (d ** (i - j))\n",
    "    \n",
    "    # Initialize option value tree\n",
    "    option_tree = np.zeros((N+1, N+1))\n",
    "    \n",
    "    # Calculate call option payoffs at expiration\n",
    "    for j in range(N+1):\n",
    "        option_tree[N, j] = max(0, stock_tree[N, j] - K)\n",
    "    \n",
    "    # Work backwards discounting and reflecting risk-neutral probabilities to calculate option value at each node\n",
    "    for i in range(N-1, -1, -1):\n",
    "        for j in range(i+1):\n",
    "            option_tree[i, j] = (p * option_tree[i+1, j+1] + (1-p) * option_tree[i+1, j])\n",
    "    \n",
    "    return option_tree[0, 0], stock_tree, option_tree"
   ]
  },
  {
   "cell_type": "code",
   "execution_count": null,
   "id": "3b05e633",
   "metadata": {},
   "outputs": [],
   "source": [
    "K = 175\n",
    "valuation_date = dt. datetime(2025, 5, 16)\n",
    "expiry_date = dt.datetime(2025, 7, 17)\n",
    "T = (expiry_date - valuation_date).days / 365\n",
    "sigma = 0.2  # Replace with your basket's volatility estimate\n",
    "N = 100\n",
    "\n",
    "price, stock_tree, option_tree = binomial_european_call(S0, K, T, sigma, N)\n",
    "print(f\"European call basket option price: {price:.2f} AUD\")\n",
    "print(\"Time until expiry (T):\", T)"
   ]
  },
  {
   "cell_type": "code",
   "execution_count": null,
   "id": "e4c1161d",
   "metadata": {},
   "outputs": [],
   "source": [
    "def monte_carlo_basket_call(S0, weights, K, T, rf_rate, sigma_vec, corr_matrix, n_paths=100):\n",
    "    \"\"\"\n",
    "    Monte Carlo simulation for European basket call option.\n",
    "    S0: array of spot prices for each asset\n",
    "    weights: array of basket weights\n",
    "    K: strike price\n",
    "    T: time to maturity (in years)\n",
    "    rf_rate: risk-free rate (annual, decimal)\n",
    "    sigma_vec: array of volatilities for each asset\n",
    "    corr_matrix: correlation matrix between assets\n",
    "    n_paths: number of Monte Carlo paths\n",
    "    \"\"\"\n",
    "    n_assets = len(S0)\n",
    "    # Cholesky decomposition for correlated random numbers\n",
    "    L = np.linalg.cholesky(corr_matrix)\n",
    "    # Simulate correlated standard normals\n",
    "    Z = np.random.normal(size=(n_paths, n_assets))\n",
    "    correlated_Z = Z @ L.T\n",
    "    # Simulate asset prices at maturity\n",
    "    drift = (rf_rate - 0.5 * sigma_vec ** 2) * T\n",
    "    diffusion = sigma_vec * np.sqrt(T)\n",
    "    S_T = S0 * np.exp(drift + diffusion * correlated_Z)\n",
    "    # Calculate basket value at maturity\n",
    "    basket_T = S_T @ weights\n",
    "    # Calculate payoff\n",
    "    payoff = np.maximum(basket_T - K, 0)\n",
    "    # Discounted expected payoff\n",
    "    price = np.exp(-rf_rate * T) * np.mean(payoff)\n",
    "    #Time step\n",
    "    dt = T/N\n",
    "    print(f\"dt: {dt}\")\n",
    "    return price"
   ]
  },
  {
   "cell_type": "code",
   "execution_count": 15,
   "id": "08cb6ce1",
   "metadata": {},
   "outputs": [
    {
     "name": "stdout",
     "output_type": "stream",
     "text": [
      "Annualized volatilities (sigma_vec): 0.2\n"
     ]
    },
    {
     "ename": "NameError",
     "evalue": "name 'corr_matrix' is not defined",
     "output_type": "error",
     "traceback": [
      "\u001b[0;31m---------------------------------------------------------------------------\u001b[0m",
      "\u001b[0;31mNameError\u001b[0m                                 Traceback (most recent call last)",
      "Cell \u001b[0;32mIn[15], line 9\u001b[0m\n\u001b[1;32m      6\u001b[0m N \u001b[38;5;241m=\u001b[39m \u001b[38;5;241m100\u001b[39m\n\u001b[1;32m      8\u001b[0m \u001b[38;5;28mprint\u001b[39m(\u001b[38;5;124m\"\u001b[39m\u001b[38;5;124mAnnualized volatilities (sigma_vec):\u001b[39m\u001b[38;5;124m\"\u001b[39m, sigma)\n\u001b[0;32m----> 9\u001b[0m \u001b[38;5;28mprint\u001b[39m(\u001b[38;5;124m\"\u001b[39m\u001b[38;5;124mCorrelation matrix (corr_matrix):\u001b[39m\u001b[38;5;130;01m\\n\u001b[39;00m\u001b[38;5;124m\"\u001b[39m, \u001b[43mcorr_matrix\u001b[49m)\n\u001b[1;32m     10\u001b[0m \u001b[38;5;28mprint\u001b[39m(\u001b[38;5;124m\"\u001b[39m\u001b[38;5;124mTime to maturity (T):\u001b[39m\u001b[38;5;124m\"\u001b[39m, T)\n",
      "\u001b[0;31mNameError\u001b[0m: name 'corr_matrix' is not defined"
     ]
    }
   ],
   "source": [
    "K = 175\n",
    "valuation_date = dt. datetime(2025, 5, 16)\n",
    "expiry_date = dt.datetime(2025, 7, 17)\n",
    "T = (expiry_date - valuation_date).days / 365\n",
    "sigma = 0.2  # Replace with your basket's volatility estimate\n",
    "N = 100\n",
    "\n",
    "print(\"Annualized volatilities (sigma_vec):\", sigma)\n",
    "print(\"Correlation matrix (corr_matrix):\\n\", corr_matrix)\n",
    "print(\"Time to maturity (T):\", T)"
   ]
  }
 ],
 "metadata": {
  "kernelspec": {
   "display_name": "Python 3",
   "language": "python",
   "name": "python3"
  },
  "language_info": {
   "codemirror_mode": {
    "name": "ipython",
    "version": 3
   },
   "file_extension": ".py",
   "mimetype": "text/x-python",
   "name": "python",
   "nbconvert_exporter": "python",
   "pygments_lexer": "ipython3",
   "version": "3.12.2"
  }
 },
 "nbformat": 4,
 "nbformat_minor": 5
}
