{
 "cells": [
  {
   "cell_type": "markdown",
   "id": "575c2ad2",
   "metadata": {},
   "source": [
    "### European up-and-in barrier call option for Wesfarmers Limited (WES)\n",
    "**Information for purchase:**  \n",
    "Strike Price = $80.00  \n",
    "In-Barrier Level = $100.00  \n",
    "Expires = 15th September 2027  \n",
    "#### Step 1: Import Packages  \n"
   ]
  },
  {
   "cell_type": "code",
   "execution_count": 6,
   "id": "fa8d00c2",
   "metadata": {},
   "outputs": [
    {
     "name": "stdout",
     "output_type": "stream",
     "text": [
      "Requirement already satisfied: numpy in ./.venv/lib/python3.13/site-packages (2.2.6)\n",
      "Note: you may need to restart the kernel to use updated packages.\n",
      "Requirement already satisfied: matplotlib in ./.venv/lib/python3.13/site-packages (3.10.3)\n",
      "Requirement already satisfied: contourpy>=1.0.1 in ./.venv/lib/python3.13/site-packages (from matplotlib) (1.3.2)\n",
      "Requirement already satisfied: cycler>=0.10 in ./.venv/lib/python3.13/site-packages (from matplotlib) (0.12.1)\n",
      "Requirement already satisfied: fonttools>=4.22.0 in ./.venv/lib/python3.13/site-packages (from matplotlib) (4.58.0)\n",
      "Requirement already satisfied: kiwisolver>=1.3.1 in ./.venv/lib/python3.13/site-packages (from matplotlib) (1.4.8)\n",
      "Requirement already satisfied: numpy>=1.23 in ./.venv/lib/python3.13/site-packages (from matplotlib) (2.2.6)\n",
      "Requirement already satisfied: packaging>=20.0 in ./.venv/lib/python3.13/site-packages (from matplotlib) (25.0)\n",
      "Requirement already satisfied: pillow>=8 in ./.venv/lib/python3.13/site-packages (from matplotlib) (11.2.1)\n",
      "Requirement already satisfied: pyparsing>=2.3.1 in ./.venv/lib/python3.13/site-packages (from matplotlib) (3.2.3)\n",
      "Requirement already satisfied: python-dateutil>=2.7 in ./.venv/lib/python3.13/site-packages (from matplotlib) (2.9.0.post0)\n",
      "Requirement already satisfied: six>=1.5 in ./.venv/lib/python3.13/site-packages (from python-dateutil>=2.7->matplotlib) (1.17.0)\n",
      "Note: you may need to restart the kernel to use updated packages.\n",
      "Requirement already satisfied: pandas in ./.venv/lib/python3.13/site-packages (2.2.3)\n",
      "Requirement already satisfied: numpy>=1.26.0 in ./.venv/lib/python3.13/site-packages (from pandas) (2.2.6)\n",
      "Requirement already satisfied: python-dateutil>=2.8.2 in ./.venv/lib/python3.13/site-packages (from pandas) (2.9.0.post0)\n",
      "Requirement already satisfied: pytz>=2020.1 in ./.venv/lib/python3.13/site-packages (from pandas) (2025.2)\n",
      "Requirement already satisfied: tzdata>=2022.7 in ./.venv/lib/python3.13/site-packages (from pandas) (2025.2)\n",
      "Requirement already satisfied: six>=1.5 in ./.venv/lib/python3.13/site-packages (from python-dateutil>=2.8.2->pandas) (1.17.0)\n",
      "Note: you may need to restart the kernel to use updated packages.\n",
      "Requirement already satisfied: scipy in ./.venv/lib/python3.13/site-packages (1.15.3)\n",
      "Requirement already satisfied: numpy<2.5,>=1.23.5 in ./.venv/lib/python3.13/site-packages (from scipy) (2.2.6)\n",
      "Note: you may need to restart the kernel to use updated packages.\n",
      "Requirement already satisfied: yfinance in ./.venv/lib/python3.13/site-packages (0.2.61)\n",
      "Requirement already satisfied: pandas>=1.3.0 in ./.venv/lib/python3.13/site-packages (from yfinance) (2.2.3)\n",
      "Requirement already satisfied: numpy>=1.16.5 in ./.venv/lib/python3.13/site-packages (from yfinance) (2.2.6)\n",
      "Requirement already satisfied: requests>=2.31 in ./.venv/lib/python3.13/site-packages (from yfinance) (2.32.3)\n",
      "Requirement already satisfied: multitasking>=0.0.7 in ./.venv/lib/python3.13/site-packages (from yfinance) (0.0.11)\n",
      "Requirement already satisfied: platformdirs>=2.0.0 in ./.venv/lib/python3.13/site-packages (from yfinance) (4.3.8)\n",
      "Requirement already satisfied: pytz>=2022.5 in ./.venv/lib/python3.13/site-packages (from yfinance) (2025.2)\n",
      "Requirement already satisfied: frozendict>=2.3.4 in ./.venv/lib/python3.13/site-packages (from yfinance) (2.4.6)\n",
      "Requirement already satisfied: peewee>=3.16.2 in ./.venv/lib/python3.13/site-packages (from yfinance) (3.18.1)\n",
      "Requirement already satisfied: beautifulsoup4>=4.11.1 in ./.venv/lib/python3.13/site-packages (from yfinance) (4.13.4)\n",
      "Requirement already satisfied: curl_cffi>=0.7 in ./.venv/lib/python3.13/site-packages (from yfinance) (0.11.1)\n",
      "Requirement already satisfied: protobuf>=3.19.0 in ./.venv/lib/python3.13/site-packages (from yfinance) (6.31.0)\n",
      "Requirement already satisfied: websockets>=13.0 in ./.venv/lib/python3.13/site-packages (from yfinance) (15.0.1)\n",
      "Requirement already satisfied: soupsieve>1.2 in ./.venv/lib/python3.13/site-packages (from beautifulsoup4>=4.11.1->yfinance) (2.7)\n",
      "Requirement already satisfied: typing-extensions>=4.0.0 in ./.venv/lib/python3.13/site-packages (from beautifulsoup4>=4.11.1->yfinance) (4.13.2)\n",
      "Requirement already satisfied: cffi>=1.12.0 in ./.venv/lib/python3.13/site-packages (from curl_cffi>=0.7->yfinance) (1.17.1)\n",
      "Requirement already satisfied: certifi>=2024.2.2 in ./.venv/lib/python3.13/site-packages (from curl_cffi>=0.7->yfinance) (2025.4.26)\n",
      "Requirement already satisfied: pycparser in ./.venv/lib/python3.13/site-packages (from cffi>=1.12.0->curl_cffi>=0.7->yfinance) (2.22)\n",
      "Requirement already satisfied: python-dateutil>=2.8.2 in ./.venv/lib/python3.13/site-packages (from pandas>=1.3.0->yfinance) (2.9.0.post0)\n",
      "Requirement already satisfied: tzdata>=2022.7 in ./.venv/lib/python3.13/site-packages (from pandas>=1.3.0->yfinance) (2025.2)\n",
      "Requirement already satisfied: six>=1.5 in ./.venv/lib/python3.13/site-packages (from python-dateutil>=2.8.2->pandas>=1.3.0->yfinance) (1.17.0)\n",
      "Requirement already satisfied: charset-normalizer<4,>=2 in ./.venv/lib/python3.13/site-packages (from requests>=2.31->yfinance) (3.4.2)\n",
      "Requirement already satisfied: idna<4,>=2.5 in ./.venv/lib/python3.13/site-packages (from requests>=2.31->yfinance) (3.10)\n",
      "Requirement already satisfied: urllib3<3,>=1.21.1 in ./.venv/lib/python3.13/site-packages (from requests>=2.31->yfinance) (2.4.0)\n",
      "Note: you may need to restart the kernel to use updated packages.\n"
     ]
    }
   ],
   "source": [
    "%pip install numpy\n",
    "%pip install matplotlib\n",
    "%pip install pandas\n",
    "%pip install scipy\n",
    "%pip install yfinance\n",
    "import numpy as np\n",
    "import matplotlib.pyplot as plt\n",
    "from scipy.stats import norm\n",
    "import pandas as pd\n",
    "from matplotlib.animation import FuncAnimation\n",
    "from IPython.display import HTML\n",
    "from matplotlib.lines import Line2D\n",
    "import yfinance as yf"
   ]
  },
  {
   "cell_type": "markdown",
   "id": "f43e2029",
   "metadata": {},
   "source": [
    "### Step 2: Monte Carlo Simulation"
   ]
  },
  {
   "cell_type": "code",
   "execution_count": null,
   "id": "b2a815a2",
   "metadata": {},
   "outputs": [],
   "source": [
    "def up_and_in_barrier_call(S0, K, T, r, sigma, B, M=10000, N=252, random_seed=None):\n",
    "    # Where:\n",
    "    # S0: initial stock price\n",
    "    # K: strike price\n",
    "    # T: time to maturity in years\n",
    "    # rf: risk-free interest rate\n",
    "    # sigma: volatility\n",
    "    # B: barrier level\n",
    "    # M: number of paths\n",
    "    # Seed for random number generator\n",
    "    if random_seed is not None:\n",
    "        np.random.seed(random_seed)\n",
    "\n",
    "    # Time step\n",
    "    dt = T / N\n",
    "\n",
    "    # Discount factor for present value\n",
    "    discount_factor = np.exp(-r * T)\n",
    "\n",
    "    # Simulate M paths of GBM\n",
    "    S = np.zeros((N + 1, M))\n",
    "    S[0] = S0\n",
    "    for t in range(1, N + 1):\n",
    "        Z = np.random.normal(0, 1, M)  # Standard normal random variables\n",
    "        S[t] = S[t - 1] * np.exp((r - 0.5 * sigma**2) * dt + sigma * np.sqrt(dt) * Z)\n",
    "\n",
    "    # Check if the barrier is breached\n",
    "    breached = np.any(S > B, axis=0)\n",
    "\n",
    "    # Calculate payoffs for paths that breach the barrier\n",
    "    payoffs = np.where(breached, np.maximum(S[-1] - K, 0), 0)\n",
    "\n",
    "    # Calculate the option price\n",
    "    option_price = discount_factor * np.mean(payoffs)\n",
    "    return option_price"
   ]
  },
  {
   "cell_type": "markdown",
   "id": "dfc09d00",
   "metadata": {},
   "source": [
    "### Step 3: Determine Initial Constants"
   ]
  },
  {
   "cell_type": "code",
   "execution_count": 18,
   "id": "f2973939",
   "metadata": {},
   "outputs": [
    {
     "name": "stdout",
     "output_type": "stream",
     "text": [
      "S0 (initial price) set to: 82.55999755859375\n",
      "Last risk-free rate before 16 May 2025: 4.2320%\n",
      "Annualized volatility for WES: 20.8823%\n",
      "Up-and-In Barrier Call Option Price: $14.85\n"
     ]
    }
   ],
   "source": [
    "# Initial stock price using yfinance\n",
    "ticker = yf.Ticker(\"WES.AX\")\n",
    "data = ticker.history(start=\"2025-05-16\", end=\"2025-05-17\")\n",
    "S0 = data[\"Close\"].iloc[0]\n",
    "print(f\"S0 (initial price) set to: {S0}\")\n",
    "\n",
    "K = 80\n",
    "T = 2.335  # Years (from 2025-05-16 to 2027-09-15)\n",
    "\n",
    "# Last risk-free rate before 16 May 2025\n",
    "rf = yf.Ticker(\"^IRX\")\n",
    "data = rf.history(end=\"2025-05-16\") # Get data before 16 May 2025\n",
    "last_rf_rate = data[\"Close\"].iloc[-1] / 100  # Convert from % to decimal\n",
    "print(f\"Last risk-free rate before 16 May 2025: {last_rf_rate:.4%}\")\n",
    "\n",
    "#Volatility calculation\n",
    "wes = yf.Ticker(\"WES.AX\")\n",
    "data = wes.history(start=\"2024-05-16\", end=\"2025-05-16\")  # 1 year of data\n",
    "data['Daily Return'] = data['Close'].pct_change() # Calculate daily returns\n",
    "returns = data['Daily Return'].dropna()\n",
    "daily_volatility = returns.std() # Standard deviation of daily returns\n",
    "annual_volatility = daily_volatility * np.sqrt(252) # Annualized volatility\n",
    "print(f\"Annualized volatility for WES: {annual_volatility:.4%}\")\n",
    "\n",
    "B = 100\n",
    "M = 10000\n",
    "\n",
    "barrier_call_price = up_and_in_barrier_call(S0, K, T, last_rf_rate, annual_volatility, B, M, random_seed=42)\n",
    "print(f\"Up-and-In Barrier Call Option Price: ${barrier_call_price:.2f}\")"
   ]
  },
  {
   "cell_type": "markdown",
   "id": "7fedcb17",
   "metadata": {},
   "source": [
    "### Therefore:  \n",
    "S0 = $82.56  \n",
    "K = $80  \n",
    "T = 2.335  \n",
    "rf = 4.23%  \n",
    "sigma = 20.88%  \n",
    "B = $100  \n",
    "M = 10000"
   ]
  }
 ],
 "metadata": {
  "kernelspec": {
   "display_name": ".venv",
   "language": "python",
   "name": "python3"
  },
  "language_info": {
   "codemirror_mode": {
    "name": "ipython",
    "version": 3
   },
   "file_extension": ".py",
   "mimetype": "text/x-python",
   "name": "python",
   "nbconvert_exporter": "python",
   "pygments_lexer": "ipython3",
   "version": "3.13.2"
  }
 },
 "nbformat": 4,
 "nbformat_minor": 5
}
