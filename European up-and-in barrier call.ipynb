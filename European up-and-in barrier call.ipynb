{
 "cells": [
  {
   "cell_type": "markdown",
   "id": "575c2ad2",
   "metadata": {},
   "source": [
    "### European up-and-in barrier call option for Wesfarmers Limited (WES)\n",
    "**Information for purchase:**  \n",
    "Strike Price = $80.00  \n",
    "In-Barrier Level = $100.00  \n",
    "Expires = 15th September 2027  \n",
    "#### Step 1: Import Packages  \n"
   ]
  },
  {
   "cell_type": "code",
   "execution_count": 5,
   "id": "fa8d00c2",
   "metadata": {},
   "outputs": [
    {
     "name": "stdout",
     "output_type": "stream",
     "text": [
      "Requirement already satisfied: numpy in ./.venv/lib/python3.13/site-packages (2.2.6)\n",
      "Note: you may need to restart the kernel to use updated packages.\n",
      "Requirement already satisfied: matplotlib in ./.venv/lib/python3.13/site-packages (3.10.3)\n",
      "Requirement already satisfied: contourpy>=1.0.1 in ./.venv/lib/python3.13/site-packages (from matplotlib) (1.3.2)\n",
      "Requirement already satisfied: cycler>=0.10 in ./.venv/lib/python3.13/site-packages (from matplotlib) (0.12.1)\n",
      "Requirement already satisfied: fonttools>=4.22.0 in ./.venv/lib/python3.13/site-packages (from matplotlib) (4.58.0)\n",
      "Requirement already satisfied: kiwisolver>=1.3.1 in ./.venv/lib/python3.13/site-packages (from matplotlib) (1.4.8)\n",
      "Requirement already satisfied: numpy>=1.23 in ./.venv/lib/python3.13/site-packages (from matplotlib) (2.2.6)\n",
      "Requirement already satisfied: packaging>=20.0 in ./.venv/lib/python3.13/site-packages (from matplotlib) (25.0)\n",
      "Requirement already satisfied: pillow>=8 in ./.venv/lib/python3.13/site-packages (from matplotlib) (11.2.1)\n",
      "Requirement already satisfied: pyparsing>=2.3.1 in ./.venv/lib/python3.13/site-packages (from matplotlib) (3.2.3)\n",
      "Requirement already satisfied: python-dateutil>=2.7 in ./.venv/lib/python3.13/site-packages (from matplotlib) (2.9.0.post0)\n",
      "Requirement already satisfied: six>=1.5 in ./.venv/lib/python3.13/site-packages (from python-dateutil>=2.7->matplotlib) (1.17.0)\n",
      "Note: you may need to restart the kernel to use updated packages.\n",
      "Requirement already satisfied: pandas in ./.venv/lib/python3.13/site-packages (2.2.3)\n",
      "Requirement already satisfied: numpy>=1.26.0 in ./.venv/lib/python3.13/site-packages (from pandas) (2.2.6)\n",
      "Requirement already satisfied: python-dateutil>=2.8.2 in ./.venv/lib/python3.13/site-packages (from pandas) (2.9.0.post0)\n",
      "Requirement already satisfied: pytz>=2020.1 in ./.venv/lib/python3.13/site-packages (from pandas) (2025.2)\n",
      "Requirement already satisfied: tzdata>=2022.7 in ./.venv/lib/python3.13/site-packages (from pandas) (2025.2)\n",
      "Requirement already satisfied: six>=1.5 in ./.venv/lib/python3.13/site-packages (from python-dateutil>=2.8.2->pandas) (1.17.0)\n",
      "Note: you may need to restart the kernel to use updated packages.\n",
      "Requirement already satisfied: scipy in ./.venv/lib/python3.13/site-packages (1.15.3)\n",
      "Requirement already satisfied: numpy<2.5,>=1.23.5 in ./.venv/lib/python3.13/site-packages (from scipy) (2.2.6)\n",
      "Note: you may need to restart the kernel to use updated packages.\n"
     ]
    }
   ],
   "source": [
    "%pip install numpy\n",
    "%pip install matplotlib\n",
    "%pip install pandas\n",
    "%pip install scipy\n",
    "import numpy as np\n",
    "import matplotlib.pyplot as plt\n",
    "from scipy.stats import norm\n",
    "import pandas as pd\n",
    "from matplotlib.animation import FuncAnimation\n",
    "from IPython.display import HTML\n",
    "from matplotlib.lines import Line2D"
   ]
  },
  {
   "cell_type": "markdown",
   "id": "f43e2029",
   "metadata": {},
   "source": [
    "### Step 2: Monte Carlo Simulation"
   ]
  },
  {
   "cell_type": "code",
   "execution_count": null,
   "id": "b2a815a2",
   "metadata": {},
   "outputs": [],
   "source": [
    "def up_and_in_barrier_call(S0, K, T, r, sigma, B, M=10000, N=252, random_seed=None):\n",
    "    # Where:\n",
    "    # S0: initial stock price\n",
    "    # K: strike price\n",
    "    # T: time to maturity in years\n",
    "    # r: risk-free interest rate\n",
    "    # sigma: volatility\n",
    "    # B: barrier level\n",
    "    # M: number of paths\n",
    "    # N: number of time steps\n",
    "    # Seed for random number generator\n",
    "    if random_seed is not None:\n",
    "        np.random.seed(random_seed)\n",
    "\n",
    "# Time step\n",
    "dt = T / N\n",
    "\n",
    "# Discount factor for present value\n",
    "discount_factor = np.exp(-r * T)\n",
    "\n",
    "# Simulate M paths of GBM\n",
    "S = np.zeros((N + 1, M))\n",
    "    S[0] = S0\n",
    "    for t in range(1, N + 1):\n",
    "        Z = np.random.normal(0, 1, M)  # Standard normal random variables\n",
    "        S[t] = S[t - 1] * np.exp((r - 0.5 * sigma**2) * dt + sigma * np.sqrt(dt) * Z)\n",
    "\n",
    "    # Check if the barrier is breached\n",
    "    breached = np.any(S > B, axis=0)\n",
    "\n",
    "    # Calculate payoffs for paths that breach the barrier\n",
    "    payoffs = np.where(breached, np.maximum(S[-1] - K, 0), 0)\n",
    "\n",
    "    # Calculate the option price\n",
    "    option_price = discount_factor * np.mean(payoffs)\n",
    "    return option_price"
   ]
  }
 ],
 "metadata": {
  "kernelspec": {
   "display_name": ".venv",
   "language": "python",
   "name": "python3"
  },
  "language_info": {
   "codemirror_mode": {
    "name": "ipython",
    "version": 3
   },
   "file_extension": ".py",
   "mimetype": "text/x-python",
   "name": "python",
   "nbconvert_exporter": "python",
   "pygments_lexer": "ipython3",
   "version": "3.13.2"
  }
 },
 "nbformat": 4,
 "nbformat_minor": 5
}
