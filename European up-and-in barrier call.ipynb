{
 "cells": [
  {
   "cell_type": "markdown",
   "id": "575c2ad2",
   "metadata": {},
   "source": [
    "### European up-and-in barrier call option for Wesfarmers Limited (WES)\n",
    "**Information for purchase:**  \n",
    "Strike Price = $80.00  \n",
    "In-Barrier Level = $100.00  \n",
    "Expires = 15th September 2027  \n",
    "#### Step 1  \n"
   ]
  }
 ],
 "metadata": {
  "language_info": {
   "name": "python"
  }
 },
 "nbformat": 4,
 "nbformat_minor": 5
}
