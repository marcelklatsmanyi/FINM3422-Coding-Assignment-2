{
 "cells": [
  {
   "cell_type": "markdown",
   "id": "7d0346e2",
   "metadata": {},
   "source": [
    "### **📝 Client Request: American Option Purchase**\n",
    "\n",
    "A client has requested that the bank **purchase an American put option** on **Commonwealth Bank of Australia (CBA)** with the following details:\n",
    "\n",
    "- **Option Type**: American Put  \n",
    "- **Underlying Asset**: Commonwealth Bank of Australia (CBA)  \n",
    "- **Strike Price**: $170.00  \n",
    "- **Expiry Date**: 15 May 2026\n",
    "\n",
    "To solve this problem, binomial tree method was applied to value the American put option on CBA shares. This model simulates potential future price movements of the stock over discrete time intervals until the option’s expiry on 15 May 2026. Using the Cox-Ross-Rubinstein framework, the model incorporates early exercise features and the time value of money to determine the fair premium the bank should pay for the option with a strike price of $170.00."
   ]
  },
  {
   "cell_type": "code",
   "execution_count": 1,
   "id": "e8fe054e",
   "metadata": {},
   "outputs": [],
   "source": [
    "import numpy as np\n",
    "import matplotlib.pyplot as plt\n",
    "import yfinance as yf\n",
    "import pandas as pd\n",
    "import datetime"
   ]
  },
  {
   "cell_type": "code",
   "execution_count": null,
   "id": "f3992c4b",
   "metadata": {},
   "outputs": [],
   "source": [
    "def get_CBA_data():\n",
    "    \n",
    "    ticker = yf.ticker('CBA.AX')\n",
    "    hist = ticker.history(start=\"2025-05-16\", end=\"2025-05-17\")\n",
    "\n",
    "    if hist.empty:\n",
    "        raise ValueError(\"No price data available for 16 May 2025.\")\n",
    "    \n",
    "    S0 = hist['Close'].iloc[0]  # closing price on 16 May 2025\n",
    "\n",
    "    try:\n",
    "        info = ticker.info\n",
    "        dividend_yield = info.get(\"dividendYield\", 0.0) or 0.0  # annual dividend yield\n",
    "    except:\n",
    "        dividend_yield = 0.0\n",
    "\n",
    "    return S0, dividend_yield # returns the closing price and dividend yield"
   ]
  }
 ],
 "metadata": {
  "kernelspec": {
   "display_name": "Python 3",
   "language": "python",
   "name": "python3"
  },
  "language_info": {
   "codemirror_mode": {
    "name": "ipython",
    "version": 3
   },
   "file_extension": ".py",
   "mimetype": "text/x-python",
   "name": "python",
   "nbconvert_exporter": "python",
   "pygments_lexer": "ipython3",
   "version": "3.13.2"
  }
 },
 "nbformat": 4,
 "nbformat_minor": 5
}
