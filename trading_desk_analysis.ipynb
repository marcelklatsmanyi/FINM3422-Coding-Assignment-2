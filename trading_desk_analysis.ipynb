{
 "cells": [
  {
   "cell_type": "markdown",
   "id": "7d0346e2",
   "metadata": {},
   "source": [
    "### **📝 Client Request: American Option Purchase**\n",
    "\n",
    "A client has requested that the bank **purchase an American put option** on **Commonwealth Bank of Australia (CBA)** with the following details:\n",
    "\n",
    "- **Option Type**: American Put  \n",
    "- **Underlying Asset**: Commonwealth Bank of Australia (CBA)  \n",
    "- **Strike Price**: $170.00  \n",
    "- **Expiry Date**: 15 May 2026\n",
    "\n",
    "To solve this problem, binomial tree method was applied to value the American put option on CBA shares. This model simulates potential future price movements of the stock over discrete time intervals until the option’s expiry on 15 May 2026. Using the Cox-Ross-Rubinstein framework, the model incorporates early exercise features and the time value of money to determine the fair premium the bank should pay for the option with a strike price of $170.00."
   ]
  },
  {
   "cell_type": "code",
   "execution_count": 12,
   "id": "e8fe054e",
   "metadata": {},
   "outputs": [],
   "source": [
    "import numpy as np\n",
    "import matplotlib.pyplot as plt\n",
    "import yfinance as yf\n",
    "import pandas as pd\n",
    "import datetime"
   ]
  },
  {
   "cell_type": "code",
   "execution_count": null,
   "id": "f3992c4b",
   "metadata": {},
   "outputs": [
    {
     "name": "stderr",
     "output_type": "stream",
     "text": [
      "[*********************100%***********************]  1 of 1 completed\n"
     ]
    },
    {
     "data": {
      "text/plain": [
       "(Ticker\n",
       " CBA.AX    169.660004\n",
       " Name: 2025-05-16 00:00:00, dtype: float64,\n",
       " 2.59)"
      ]
     },
     "execution_count": 20,
     "metadata": {},
     "output_type": "execute_result"
    }
   ],
   "source": [
    "def get_CBA_data():\n",
    "    \n",
    "    valuation_date = datetime.datetime(2025, 5, 16)\n",
    "    lookback_start = datetime.datetime(2024, 5, 16)\n",
    "\n",
    "    ticker = yf.Ticker('CBA.AX')\n",
    "    hist = yf.download('CBA.AX', start='2025-05-16', end='2025-05-17')\n",
    "\n",
    "    # including period of 1 year to calculate historical volatility\n",
    "    ticker = yf.Ticker(\"CBA.AX\")\n",
    "    hist_vol = ticker.history(start=lookback_start, end=valuation_date)\n",
    "    if hist_vol.empty:\n",
    "        raise ValueError(\"No historical data available for volatility calculation.\")\n",
    "    \n",
    "\n",
    "    if hist.empty:\n",
    "        raise ValueError(\"No price data available for 16 May 2025.\")\n",
    "    \n",
    "    S0 = hist['Close'].iloc[0]  # closing price on 16 May 2025\n",
    "\n",
    "    try:\n",
    "        info = ticker.info\n",
    "        dividend_yield = info.get(\"dividendYield\", 0.0) or 0.0  # annual dividend yield\n",
    "    except:\n",
    "        dividend_yield = 0.0\n",
    "\n",
    "    return S0, dividend_yield # returns the closing price and dividend yield\n",
    "get_CBA_data()\n"
   ]
  },
  {
   "cell_type": "markdown",
   "id": "c59a1102",
   "metadata": {},
   "source": [
    "The following function prices an American put option by implementing the Cox-Ross-Rubinstein (CRR) binomial tree model, which accounts for continuous dividend yield.\n",
    "\n",
    "#### Parameters:\n",
    "\n",
    "- **S0** (*float*): Spot price of the underlying asset  \n",
    "- **K** (*float*): Strike price of the option  \n",
    "- **r** (*float*): Risk-free interest rate (annualised)  \n",
    "- **q** (*float*): Continuous dividend yield (annualised)  \n",
    "- **T** (*float*): Time to expiry, expressed in years  \n",
    "- **sigma** (*float*): Volatility of the underlying asset (annualised)  \n",
    "- **N** (*int*): Number of steps in the binomial tree  \n",
    "\n",
    "#### Returns:\n",
    "\n",
    "- **float**: The calculated premium (price) of the American put option"
   ]
  },
  {
   "cell_type": "code",
   "execution_count": 22,
   "id": "d79861f0",
   "metadata": {},
   "outputs": [
    {
     "name": "stderr",
     "output_type": "stream",
     "text": [
      "[*********************100%***********************]  1 of 1 completed"
     ]
    },
    {
     "name": "stderr",
     "output_type": "stream",
     "text": [
      "\n"
     ]
    },
    {
     "name": "stdout",
     "output_type": "stream",
     "text": [
      "CBA closing price on May 16 2025: $169.66, Dividend Yield: 2.59%\n"
     ]
    }
   ],
   "source": [
    "def binomial_american_put(S0, K, r, q, T, sigma, N):\n",
    "    \n",
    "    #calculating time step\n",
    "    dt = T / N\n",
    "\n",
    "    #calculating up and down factors\n",
    "    u = np.exp(sigma * np.sqrt(dt))\n",
    "    d = 1 / u\n",
    "\n",
    "    #calculating risk-neutral probabilities\n",
    "    p = (np.exp((r-q)*dt)-d)/(u-d)\n",
    "    disc = np.exp(-r*dt)\n",
    "\n",
    "    # Build stock tree\n",
    "    stock = np.zeros((N+1, N+1))\n",
    "    for i in range(N+1):\n",
    "        for j in range(i+1):\n",
    "            stock[i, j] = S0*(u**j)*(d**(i-j))\n",
    "\n",
    "    # Build option tree\n",
    "    option = np.zeros((N+1, N+1))\n",
    "    for j in range(N+1):\n",
    "        option[N, j] = max(K-stock[N, j], 0)\n",
    "\n",
    "    # Backward induction\n",
    "    for i in range(N-1, -1, -1):\n",
    "        for j in range(i+1):\n",
    "            hold = disc * (p*option[i+1, j+1]+(1-p)*option[i+1, j])\n",
    "            exercise = max(K - stock[i, j], 0)\n",
    "            option[i, j] = max(hold, exercise)\n",
    "\n",
    "    # Return the option price at time 0\n",
    "    return option[0, 0]\n",
    "\n",
    "S0, q = get_CBA_data()\n",
    "if isinstance(S0, pd.Series):\n",
    "    S0_value = S0.iloc[0]\n",
    "else:\n",
    "    S0_value = S0\n",
    "print(f\"CBA closing price on May 16 2025: ${S0_value:.2f}, Dividend Yield: {q:.2f}%\")\n"
   ]
  }
 ],
 "metadata": {
  "kernelspec": {
   "display_name": "Python 3",
   "language": "python",
   "name": "python3"
  },
  "language_info": {
   "codemirror_mode": {
    "name": "ipython",
    "version": 3
   },
   "file_extension": ".py",
   "mimetype": "text/x-python",
   "name": "python",
   "nbconvert_exporter": "python",
   "pygments_lexer": "ipython3",
   "version": "3.13.2"
  }
 },
 "nbformat": 4,
 "nbformat_minor": 5
}
