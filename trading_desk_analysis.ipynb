{
 "cells": [
  {
   "cell_type": "markdown",
   "id": "7d0346e2",
   "metadata": {},
   "source": [
    "### 📝 Client Request: Option Purchase\n",
    "\n",
    "A client has requested that the bank **purchase an American put option** on **Commonwealth Bank of Australia (CBA)** with the following details:\n",
    "\n",
    "- **Option Type**: American Put  \n",
    "- **Underlying Asset**: Commonwealth Bank of Australia (CBA)  \n",
    "- **Strike Price**: $170.00  \n",
    "- **Expiry Date**: 15 May 2026"
   ]
  },
  {
   "cell_type": "code",
   "execution_count": null,
   "id": "e8fe054e",
   "metadata": {
    "vscode": {
     "languageId": "plaintext"
    }
   },
   "outputs": [],
   "source": []
  }
 ],
 "metadata": {
  "language_info": {
   "name": "python"
  }
 },
 "nbformat": 4,
 "nbformat_minor": 5
}
