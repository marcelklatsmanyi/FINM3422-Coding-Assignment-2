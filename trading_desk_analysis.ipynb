{
 "cells": [
  {
   "cell_type": "markdown",
   "id": "7d0346e2",
   "metadata": {},
   "source": [
    "### **📝 Client Request: American Option Purchase**\n",
    "\n",
    "A client has requested that the bank **purchase an American put option** on **Commonwealth Bank of Australia (CBA)** with the following details:\n",
    "\n",
    "- **Option Type**: American Put  \n",
    "- **Underlying Asset**: Commonwealth Bank of Australia (CBA)  \n",
    "- **Strike Price**: $170.00  \n",
    "- **Expiry Date**: 15 May 2026\n",
    "\n",
    "To solve this problem, binomial tree method was applied to value the American put option on CBA shares. This model simulates potential future price movements of the stock over discrete time intervals until the option’s expiry on 15 May 2026. Using the Cox-Ross-Rubinstein framework, the model incorporates early exercise features and the time value of money to determine the fair premium the bank should pay for the option with a strike price of $170.00."
   ]
  },
  {
   "cell_type": "code",
   "execution_count": 1,
   "id": "e8fe054e",
   "metadata": {},
   "outputs": [],
   "source": [
    "import numpy as np\n",
    "import matplotlib.pyplot as plt\n",
    "import yfinance as yf\n",
    "import pandas as pd\n",
    "import datetime"
   ]
  },
  {
   "cell_type": "code",
   "execution_count": null,
   "id": "f3992c4b",
   "metadata": {},
   "outputs": [],
   "source": [
    "def get_CBA_data():\n",
    "    \n",
    "    ticker = yf.ticker('CBA.AX')\n",
    "    hist = ticker.history(start=\"2025-05-16\", end=\"2025-05-17\")\n",
    "\n",
    "    if hist.empty:\n",
    "        raise ValueError(\"No price data available for 16 May 2025.\")\n",
    "    \n",
    "    S0 = hist['Close'].iloc[0]  # closing price on 16 May 2025\n",
    "\n",
    "    try:\n",
    "        info = ticker.info\n",
    "        dividend_yield = info.get(\"dividendYield\", 0.0) or 0.0  # annual dividend yield\n",
    "    except:\n",
    "        dividend_yield = 0.0\n",
    "\n",
    "    return S0, dividend_yield # returns the closing price and dividend yield"
   ]
  },
  {
   "cell_type": "markdown",
   "id": "c59a1102",
   "metadata": {},
   "source": [
    "The following function prices an American put option by implementing the Cox-Ross-Rubinstein (CRR) binomial tree model, which accounts for continuous dividend yield.\n",
    "\n",
    "#### Parameters:\n",
    "\n",
    "- **S0** (*float*): Spot price of the underlying asset  \n",
    "- **K** (*float*): Strike price of the option  \n",
    "- **r** (*float*): Risk-free interest rate (annualised)  \n",
    "- **q** (*float*): Continuous dividend yield (annualised)  \n",
    "- **T** (*float*): Time to expiry, expressed in years  \n",
    "- **sigma** (*float*): Volatility of the underlying asset (annualised)  \n",
    "- **N** (*int*): Number of steps in the binomial tree  \n",
    "\n",
    "#### Returns:\n",
    "\n",
    "- **float**: The calculated premium (price) of the American put option"
   ]
  },
  {
   "cell_type": "code",
   "execution_count": null,
   "id": "d79861f0",
   "metadata": {},
   "outputs": [],
   "source": [
    "def binomial_american_put(S0, K, r, q, T, sigma, N):\n",
    "    \n",
    "    dt = T / N\n",
    "    u = np.exp(sigma * np.sqrt(dt))\n",
    "    d = 1 / u\n",
    "    p = (np.exp((r - q) * dt) - d) / (u - d)\n",
    "    disc = np.exp(-r * dt)\n",
    "\n",
    "    # Build stock tree\n",
    "    stock = np.zeros((N + 1, N + 1))\n",
    "    for i in range(N + 1):\n",
    "        for j in range(i + 1):\n",
    "            stock[i, j] = S0 * (u ** j) * (d ** (i - j))\n",
    "\n",
    "    # Build option tree\n",
    "    option = np.zeros((N + 1, N + 1))\n",
    "    for j in range(N + 1):\n",
    "        option[N, j] = max(K - stock[N, j], 0)\n",
    "\n",
    "  \n"
   ]
  }
 ],
 "metadata": {
  "kernelspec": {
   "display_name": "Python 3",
   "language": "python",
   "name": "python3"
  },
  "language_info": {
   "codemirror_mode": {
    "name": "ipython",
    "version": 3
   },
   "file_extension": ".py",
   "mimetype": "text/x-python",
   "name": "python",
   "nbconvert_exporter": "python",
   "pygments_lexer": "ipython3",
   "version": "3.13.2"
  }
 },
 "nbformat": 4,
 "nbformat_minor": 5
}
